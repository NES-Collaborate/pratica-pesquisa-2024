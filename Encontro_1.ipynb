{
 "cells": [
  {
   "cell_type": "markdown",
   "metadata": {},
   "source": [
    "# Bem vindos ao Pretica e Pesquisa do NES 2024\n",
    "\n",
    "Olá a todos! Estamos entusiasmados por tê-los conosco neste curso, que faz parte do programa Novo Ensino Suplementar (NES). Este curso foi desenhado para equipá-los com habilidades práticas em análise de dados e desenvolvimento de aplicações web, utilizando dados do Portal da Transparência de Maceió-AL.\n",
    "\n",
    "Este é apenas o primeiro de seis encontros, onde vamos mergulhar em diferentes ferramentas e técnicas essenciais para qualquer cientista de dados e desenvolvedor web. Vamos aprender, praticar e, eventualmente, construir juntos uma aplicação web que não só apresenta dados de forma visualmente atraente mas também fornece insights valiosos através de análise de dados.\n",
    "\n",
    "Preparados para começar? Vamos lá!"
   ]
  },
  {
   "cell_type": "markdown",
   "metadata": {},
   "source": [
    "## Objetivo Geral do Curso\n",
    "\n",
    "O principal objetivo deste curso é desenvolver uma sólida compreensão teórica e prática das técnicas de análise de dados, bem como habilidades em desenvolvimento web, focando especialmente no uso de Python e bibliotecas populares como Pandas, Matplotlib e FastAPI.\n",
    "\n",
    "Ao final deste curso, vocês serão capazes de:\n",
    "- Manipular e analisar dados complexos utilizando o Pandas.\n",
    "- Criar visualizações de dados impactantes com o Matplotlib.\n",
    "- Desenvolver aplicações web dinâmicas usando FastAPI.\n",
    "- Integrar análise de dados em uma aplicação web para fornecer insights em tempo real.\n"
   ]
  },
  {
   "cell_type": "markdown",
   "metadata": {},
   "source": [
    "## Estrutura do Curso e Metodologia\n",
    "\n",
    "Cada encontro deste curso será dividido em duas partes principais:\n",
    "1. **Teoria**: Vamos começar cada sessão com uma exploração teórica do tópico do dia. Isso incluirá uma apresentação de slides e uma discussão em grupo para garantir que todos tenham uma compreensão firme dos conceitos básicos.\n",
    "2. **Prática**: Na segunda parte de cada encontro, vamos colocar a teoria em prática. Isso será feito através de exercícios guiados e projetos práticos, onde vocês aplicarão diretamente o que aprenderam no contexto de dados reais do Portal da Transparência de Maceió-AL.\n",
    "\n",
    "### Além disso, algumas boas práticas a serem seguidas durante o curso:\n",
    "- **Engajamento Ativo**: Encorajamos todos a participar ativamente das discussões e a fazer perguntas durante as aulas.\n",
    "- **Colaboração**: O trabalho em equipe será essencial, especialmente durante as sessões práticas. Aprendemos melhor quando aprendemos juntos!\n",
    "- **Feedback Contínuo**: Seu feedback é crucial para nós! Ele nos ajudará a melhorar as aulas e a experiência de aprendizado ao longo do curso.\n"
   ]
  },
  {
   "cell_type": "markdown",
   "metadata": {},
   "source": [
    "## Avaliação \n",
    "TODO"
   ]
  },
  {
   "cell_type": "markdown",
   "metadata": {},
   "source": [
    "# Introdução ao Pandas e Manipulação de Dados\n",
    "Pandas é uma biblioteca de código aberto, poderosa e flexível do Python usada para manipulação e análise de dados. É construída sobre a biblioteca NumPy e torna a análise de dados rápidos, fáceis e intuitiva. Aqui, vamos explorar suas estruturas de dados fundamentais: Series e DataFrame."
   ]
  },
  {
   "cell_type": "markdown",
   "metadata": {},
   "source": []
  }
 ],
 "metadata": {
  "language_info": {
   "name": "python"
  }
 },
 "nbformat": 4,
 "nbformat_minor": 2
}
